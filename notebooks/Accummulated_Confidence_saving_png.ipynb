{
 "metadata": {
  "name": "",
  "signature": "sha256:827c8cfaa8f5425b1ec444934f4b0a6d4b8af539b0483878e7c1f957e486a485"
 },
 "nbformat": 3,
 "nbformat_minor": 0,
 "worksheets": [
  {
   "cells": [
    {
     "cell_type": "code",
     "collapsed": false,
     "input": [
      "import matplotlib\n",
      "# %matplotlib inline\n",
      "matplotlib.use(\"Agg\")"
     ],
     "language": "python",
     "metadata": {},
     "outputs": [],
     "prompt_number": 1
    },
    {
     "cell_type": "code",
     "collapsed": false,
     "input": [
      "import pandas as pd\n",
      "import networkx as nx\n",
      "import matplotlib.pyplot as plt"
     ],
     "language": "python",
     "metadata": {},
     "outputs": [],
     "prompt_number": 2
    },
    {
     "cell_type": "heading",
     "level": 1,
     "metadata": {},
     "source": [
      "Data Input"
     ]
    },
    {
     "cell_type": "markdown",
     "metadata": {},
     "source": [
      "We are adding the adjacency matrices for each of the confidence levels so we can get a weight for the connections bewtween the petitions. For example, a value of 4 in the adjaceny matrix means that it is at the 40% confidence level."
     ]
    },
    {
     "cell_type": "code",
     "collapsed": false,
     "input": [
      "petition50 = pd.read_csv('../data/adjacency_matrix_50_percent_confidence.csv')\n",
      "petition40 = pd.read_csv('../data/adjacency_matrix_40_percent_confidence.csv')\n",
      "petition30 = pd.read_csv('../data/adjacency_matrix_30_percent_confidence.csv')\n",
      "petition20 = pd.read_csv('../data/adjacency_matrix_20_percent_confidence.csv')\n",
      "petition10 = pd.read_csv('../data/adjacency_matrix_10_percent_confidence.csv')\n",
      "petitions = petition50 + petition40 + petition30 + petition20 + petition10 \n",
      "adjacency_matrix = petitions.T.values[1:]\n",
      "petitions['Unnamed: 0'] = petition10['Unnamed: 0']\n",
      "petition_ids = petitions['Unnamed: 0']\n",
      "petition_labels = {i:x for i,x in petition_ids.iteritems()}"
     ],
     "language": "python",
     "metadata": {},
     "outputs": [],
     "prompt_number": 3
    },
    {
     "cell_type": "code",
     "collapsed": false,
     "input": [
      "print petitions\n"
     ],
     "language": "python",
     "metadata": {},
     "outputs": [
      {
       "output_type": "stream",
       "stream": "stdout",
       "text": [
        "    Unnamed: 0  975  980  981  982  983  984  985  987  990  996  1003  1006  \\\n",
        "0          975    0    0    1    0    0    0    0    0    0    0     2     0   \n",
        "1          980    0    0    0    0    0    0    1    0    2    3     0     4   \n",
        "2          981    1    0    0    0    2    0    0    0    1    0     2     2   \n",
        "3          982    0    0    0    0    0    0    0    0    0    0     0     0   \n",
        "4          983    0    0    4    0    0    0    0    0    2    0     3     2   \n",
        "5          984    0    0    0    0    0    0    0    0    0    0     0     0   \n",
        "6          985    0    3    0    0    0    0    0    0    0    3     0     4   \n",
        "7          987    0    0    0    0    0    0    0    0    5    0     0     5   \n",
        "8          990    0    2    1    0    1    0    0    2    0    3     0     5   \n",
        "9          996    0    3    0    0    0    0    1    0    3    0     0     5   \n",
        "10        1003    2    0    2    0    1    0    0    0    0    0     0     1   \n",
        "11        1006    0    0    0    0    0    0    0    0    1    1     0     0   \n",
        "12        1008    0    0    0    0    0    0    0    0    0    0     0     0   \n",
        "13        1009    0    2    1    0    0    0    0    1    4    4     0     5   \n",
        "14        1010    0    2    0    0    0    0    0    2    5    3     0     5   \n",
        "15        1013    0    0    0    0    0    0    0    0    0    0     0     0   \n",
        "16        1016    0    0    0    0    0    0    0    0    0    0     0     0   \n",
        "17        1025    0    0    0    0    0    0    0    0    0    0     0     0   \n",
        "18        1029    0    0    0    0    0    0    0    5    5    3     0     5   \n",
        "19        1043    0    0    0    0    0    0    0    0    0    0     0     0   \n",
        "20        1052    0    0    0    0    0    0    0    0    0    0     0     1   \n",
        "\n",
        "    1008  1009  1010  1013  1016  1025  1029      \n",
        "0      0     0     0     0     0     0     0 ...  \n",
        "1      0     2     1     0     0     0     0 ...  \n",
        "2      0     1     0     0     0     0     0 ...  \n",
        "3      0     0     0     0     0     0     0 ...  \n",
        "4      0     0     0     0     0     0     0 ...  \n",
        "5      0     0     0     0     0     0     0 ...  \n",
        "6      0     0     0     0     0     0     0 ...  \n",
        "7      0     3     4     0     0     0     5 ...  \n",
        "8      0     4     3     0     0     0     2 ...  \n",
        "9      0     4     2     0     0     0     1 ...  \n",
        "10     0     0     0     0     0     0     0 ...  \n",
        "11     0     1     0     0     0     0     0 ...  \n",
        "12     0     0     0     0     0     0     0 ...  \n",
        "13     0     0     2     0     0     0     1 ...  \n",
        "14     0     4     0     0     0     0     3 ...  \n",
        "15     0     0     0     0     0     0     0 ...  \n",
        "16     0     0     0     0     0     0     0 ...  \n",
        "17     0     0     0     0     0     0     0 ...  \n",
        "18     0     3     4     0     0     0     0 ...  \n",
        "19     0     0     0     0     0     0     0 ...  \n",
        "20     0     0     0     0     0     0     0 ...  \n",
        "\n",
        "[21 rows x 22 columns]\n"
       ]
      }
     ],
     "prompt_number": 4
    },
    {
     "cell_type": "code",
     "collapsed": false,
     "input": [
      "print petition10"
     ],
     "language": "python",
     "metadata": {},
     "outputs": [
      {
       "output_type": "stream",
       "stream": "stdout",
       "text": [
        "    Unnamed: 0  975  980  981  982  983  984  985  987  990  996  1003  1006  \\\n",
        "0          975    0    0    1    0    0    0    0    0    0    0     1     0   \n",
        "1          980    0    0    0    0    0    0    1    0    1    1     0     1   \n",
        "2          981    1    0    0    0    1    0    0    0    1    0     1     1   \n",
        "3          982    0    0    0    0    0    0    0    0    0    0     0     0   \n",
        "4          983    0    0    1    0    0    0    0    0    1    0     1     1   \n",
        "5          984    0    0    0    0    0    0    0    0    0    0     0     0   \n",
        "6          985    0    1    0    0    0    0    0    0    0    1     0     1   \n",
        "7          987    0    0    0    0    0    0    0    0    1    0     0     1   \n",
        "8          990    0    1    1    0    1    0    0    1    0    1     0     1   \n",
        "9          996    0    1    0    0    0    0    1    0    1    0     0     1   \n",
        "10        1003    1    0    1    0    1    0    0    0    0    0     0     1   \n",
        "11        1006    0    0    0    0    0    0    0    0    1    1     0     0   \n",
        "12        1008    0    0    0    0    0    0    0    0    0    0     0     0   \n",
        "13        1009    0    1    1    0    0    0    0    1    1    1     0     1   \n",
        "14        1010    0    1    0    0    0    0    0    1    1    1     0     1   \n",
        "15        1013    0    0    0    0    0    0    0    0    0    0     0     0   \n",
        "16        1016    0    0    0    0    0    0    0    0    0    0     0     0   \n",
        "17        1025    0    0    0    0    0    0    0    0    0    0     0     0   \n",
        "18        1029    0    0    0    0    0    0    0    1    1    1     0     1   \n",
        "19        1043    0    0    0    0    0    0    0    0    0    0     0     0   \n",
        "20        1052    0    0    0    0    0    0    0    0    0    0     0     1   \n",
        "\n",
        "    1008  1009  1010  1013  1016  1025  1029      \n",
        "0      0     0     0     0     0     0     0 ...  \n",
        "1      0     1     1     0     0     0     0 ...  \n",
        "2      0     1     0     0     0     0     0 ...  \n",
        "3      0     0     0     0     0     0     0 ...  \n",
        "4      0     0     0     0     0     0     0 ...  \n",
        "5      0     0     0     0     0     0     0 ...  \n",
        "6      0     0     0     0     0     0     0 ...  \n",
        "7      0     1     1     0     0     0     1 ...  \n",
        "8      0     1     1     0     0     0     1 ...  \n",
        "9      0     1     1     0     0     0     1 ...  \n",
        "10     0     0     0     0     0     0     0 ...  \n",
        "11     0     1     0     0     0     0     0 ...  \n",
        "12     0     0     0     0     0     0     0 ...  \n",
        "13     0     0     1     0     0     0     1 ...  \n",
        "14     0     1     0     0     0     0     1 ...  \n",
        "15     0     0     0     0     0     0     0 ...  \n",
        "16     0     0     0     0     0     0     0 ...  \n",
        "17     0     0     0     0     0     0     0 ...  \n",
        "18     0     1     1     0     0     0     0 ...  \n",
        "19     0     0     0     0     0     0     0 ...  \n",
        "20     0     0     0     0     0     0     0 ...  \n",
        "\n",
        "[21 rows x 22 columns]\n"
       ]
      }
     ],
     "prompt_number": 5
    },
    {
     "cell_type": "code",
     "collapsed": false,
     "input": [
      "graph = nx.from_numpy_matrix(adjacency_matrix)"
     ],
     "language": "python",
     "metadata": {},
     "outputs": [],
     "prompt_number": 6
    },
    {
     "cell_type": "code",
     "collapsed": false,
     "input": [
      "categories_colors = pd.read_csv('../data/petitions_groups_colors.csv')"
     ],
     "language": "python",
     "metadata": {},
     "outputs": [],
     "prompt_number": 7
    },
    {
     "cell_type": "code",
     "collapsed": false,
     "input": [
      "color_table =  [ [row[0],row[1],row[2]] for i,row in categories_colors.iterrows()]"
     ],
     "language": "python",
     "metadata": {},
     "outputs": [],
     "prompt_number": 8
    },
    {
     "cell_type": "code",
     "collapsed": false,
     "input": [
      "petitions_categories_table = pd.read_csv('../data/petitions_grouping.csv')\n",
      "petitions_categories =  { row[0]:row[1] for i,row in petitions_categories_table.iterrows() }"
     ],
     "language": "python",
     "metadata": {},
     "outputs": [],
     "prompt_number": 9
    },
    {
     "cell_type": "code",
     "collapsed": false,
     "input": [
      "node_colors_array = [ color_table[petitions_categories[pid]] for pid in petition_ids ]"
     ],
     "language": "python",
     "metadata": {},
     "outputs": [],
     "prompt_number": 10
    },
    {
     "cell_type": "code",
     "collapsed": false,
     "input": [
      "edge_weight = [adjacency_matrix[int(line.split()[0])][int(line.split()[1])] for line in nx.generate_edgelist(graph, data = False)] \n",
      "    "
     ],
     "language": "python",
     "metadata": {},
     "outputs": [],
     "prompt_number": 11
    },
    {
     "cell_type": "markdown",
     "metadata": {},
     "source": [
      "Nodes in this graph represent petitions. The edges represent the co-signing relationship. The color of the edges represents the strength of the relationship. The darker the edge, the more co-signatures there are:\n",
      "* Blue = Mental Health\n",
      "* Red = Give us our Guns\n",
      "* Green  = Guard Our Schools\n"
     ]
    },
    {
     "cell_type": "code",
     "collapsed": false,
     "input": [
      "# If you want  to generate a new layout then run this again.\n",
      "#plt.figure(num=2, figsize=(25,25))\n",
      "#positions = nx.spring_layout(graph,k=0.7,scale=25)\n",
      "#nodes = nx.draw_networkx_nodes(graph,positions,node_color = node_colors_array, node_size=1000)\n",
      "#labels = nx.draw_networkx_labels(graph,positions,labels = petition_labels)\n",
      "#edges = nx.draw_networkx_edges(graph,positions,edge_cmap = plt.get_cmap('binary'),edge_vmin = 0,edge_vmax = 5,edge_color = edge_weight, width = 3)\n",
      "#plt.axis('off')\n",
      "#plt.sci(nodes)\n",
      "#plt.sci(edges)\n",
      "#plt.show()\n"
     ],
     "language": "python",
     "metadata": {},
     "outputs": [],
     "prompt_number": 12
    },
    {
     "cell_type": "code",
     "collapsed": false,
     "input": [
      "#we no longer need these lines beacuse we already generated the grapgh layout file and we don't want to overwrite it.\n",
      "#posframe = pd.DataFrame(positions)\n",
      "#posframe.T.to_csv('../data/graph_positions.csv', index = False)"
     ],
     "language": "python",
     "metadata": {},
     "outputs": [],
     "prompt_number": 13
    },
    {
     "cell_type": "code",
     "collapsed": false,
     "input": [
      "import numpy\n",
      "posframe2 = pd.read_csv('../data/graph_positions.csv')\n",
      "positions2 = {i:numpy.array([row[0],row[1]]) for i,row in posframe2.iterrows()}\n",
      "print positions2\n",
      "#print positions\n",
      "print posframe2\n",
      "\n"
     ],
     "language": "python",
     "metadata": {},
     "outputs": [
      {
       "output_type": "stream",
       "stream": "stdout",
       "text": [
        "{0: array([ 21.26665887,  21.5062196 ]), 1: array([  6.61907788,  15.34311439]), 2: array([ 18.36062122,   1.13556911]), 3: array([ 12.57803152,  24.91702875]), 4: array([ 21.26844824,   3.21492324]), 5: array([ 23.52954132,  18.48465712]), 6: array([ 25.        ,  14.02593921]), 7: array([ 5.71163284,  1.70345   ]), 8: array([ 3.51885377,  3.43224267]), 9: array([  9.76257281e+00,   2.09631112e-03]), 10: array([ 15.09162118,   0.        ]), 11: array([ 10.46940905,   8.11031682]), 12: array([ 16.97852239,  23.98424214]), 13: array([ 1.95459164,  6.21128465]), 14: array([  0.        ,  12.30840852]), 15: array([  4.0418459 ,  21.58535273]), 16: array([ 23.91854452,   6.80546051]), 17: array([  8.0668507 ,  24.18095471]), 18: array([  0.4355404 ,  15.98459975]), 19: array([ 24.96323508,  10.60708767]), 20: array([ 0.26024087,  9.31505076])}\n",
        "            0          1\n",
        "0   21.266659  21.506220\n",
        "1    6.619078  15.343114\n",
        "2   18.360621   1.135569\n",
        "3   12.578032  24.917029\n",
        "4   21.268448   3.214923\n",
        "5   23.529541  18.484657\n",
        "6   25.000000  14.025939\n",
        "7    5.711633   1.703450\n",
        "8    3.518854   3.432243\n",
        "9    9.762573   0.002096\n",
        "10  15.091621   0.000000\n",
        "11  10.469409   8.110317\n",
        "12  16.978522  23.984242\n",
        "13   1.954592   6.211285\n",
        "14   0.000000  12.308409\n",
        "15   4.041846  21.585353\n",
        "16  23.918545   6.805461\n",
        "17   8.066851  24.180955\n",
        "18   0.435540  15.984600\n",
        "19  24.963235  10.607088\n",
        "20   0.260241   9.315051\n",
        "\n",
        "[21 rows x 2 columns]\n"
       ]
      }
     ],
     "prompt_number": 14
    },
    {
     "cell_type": "code",
     "collapsed": false,
     "input": [
      "# plt.figure(num=3, figsize=(25,25))\n",
      "#positions = nx.spring_layout(graph,k=0.7,scale=10)\n",
      "nodes = nx.draw_networkx_nodes(graph,positions2,node_color = node_colors_array, node_size=1000)\n",
      "labels = nx.draw_networkx_labels(graph,positions2,labels = petition_labels)\n",
      "edges = nx.draw_networkx_edges(graph,positions2,edge_cmap = plt.get_cmap('binary'),edge_vmin = 0,edge_vmax = 5,edge_color = edge_weight, width = 3)\n",
      "plt.axis('off')\n",
      "plt.sci(nodes)\n",
      "plt.sci(edges)\n",
      "plt.show()"
     ],
     "language": "python",
     "metadata": {},
     "outputs": [],
     "prompt_number": 15
    },
    {
     "cell_type": "code",
     "collapsed": false,
     "input": [
      "def generate_confidence_level_graphs(confidence):\n",
      "    filename = '../data/'+confidence+'per_confidence_edges.txt'\n",
      "    imagename = '../data/graphic_'+confidence+'_level.png'\n",
      "    print imagename\n",
      "    import numpy\n",
      "    import pylab\n",
      "    #petitions = pd.read_csv(filename)\n",
      "    #adjacency_matrix = petitions.T.values[1:]\n",
      "    #petitions['Unnamed: 0'] = petition10['Unnamed: 0']\n",
      "    #petition_ids = petitions['Unnamed: 0']\n",
      "    petition_ids = [ 975,980,981,982,983,984,985,987,990,996,1003,1006,1008,1009,1010,1013,1016,1025,1029,1043,1052]    \n",
      "    petition_labels = {petition_ids[i]:str(petition_ids[i]) for i in range(0,21) }\n",
      "    #graph = nx.from_numpy_matrix(adjacency_matrix)\n",
      "    with open(filename, \"r\") as infile:\n",
      "        rules = []\n",
      "        for line in infile:\n",
      "            rules.append(line.strip().split())\n",
      " \n",
      "    graph = nx.MultiDiGraph()\n",
      "    [ graph.add_node(x) for x in petition_ids ]\n",
      "  \n",
      "    for r in rules:\n",
      "        graph.add_edge(int(r[0]), int(r[1]))\n",
      "        \n",
      "    categories_colors = pd.read_csv('../data/petitions_groups_colors.csv')\n",
      "    color_table =  [ [row[0],row[1],row[2]] for i,row in categories_colors.iterrows()]\n",
      "    petitions_categories_table = pd.read_csv('../data/petitions_grouping.csv')\n",
      "    petitions_categories =  { row[0]:row[1] for i,row in petitions_categories_table.iterrows() }\n",
      "    node_colors_array = [ color_table[petitions_categories[pid]] for pid in graph.nodes() ]\n",
      "    posframe2 = pd.read_csv('../data/graph_positions.csv')\n",
      "    positions2 = {petition_ids[i]:numpy.array([row[0],row[1]]) for i,row in posframe2.iterrows()}\n",
      "    plt.figure(figsize=(25,25))\n",
      "    nodes = nx.draw_networkx_nodes(graph,positions2,node_color = node_colors_array, node_size=2500)\n",
      "    labels = nx.draw_networkx_labels(graph,positions2,labels = petition_labels, font_size=20)\n",
      "    edges = nx.draw_networkx_edges(graph,positions2, width = 3,arrows=True)\n",
      "    plt.axis('off')\n",
      "    plt.sci(nodes)\n",
      "    plt.sci(edges)\n",
      "    plt.show()\n",
      "    plt.savefig(imagename)\n",
      "    "
     ],
     "language": "python",
     "metadata": {},
     "outputs": [],
     "prompt_number": 16
    },
    {
     "cell_type": "code",
     "collapsed": false,
     "input": [
      "generate_confidence_level_graphs('10')"
     ],
     "language": "python",
     "metadata": {},
     "outputs": [
      {
       "output_type": "stream",
       "stream": "stdout",
       "text": [
        "../data/graphic_10_level.png\n"
       ]
      }
     ],
     "prompt_number": 17
    },
    {
     "cell_type": "code",
     "collapsed": false,
     "input": [
      "generate_confidence_level_graphs('20')"
     ],
     "language": "python",
     "metadata": {},
     "outputs": [
      {
       "output_type": "stream",
       "stream": "stdout",
       "text": [
        "../data/graphic_20_level.png\n"
       ]
      }
     ],
     "prompt_number": 18
    },
    {
     "cell_type": "code",
     "collapsed": false,
     "input": [
      "generate_confidence_level_graphs('30')"
     ],
     "language": "python",
     "metadata": {},
     "outputs": [
      {
       "output_type": "stream",
       "stream": "stdout",
       "text": [
        "../data/graphic_30_level.png\n"
       ]
      }
     ],
     "prompt_number": 19
    },
    {
     "cell_type": "code",
     "collapsed": false,
     "input": [
      "generate_confidence_level_graphs('40')"
     ],
     "language": "python",
     "metadata": {},
     "outputs": [
      {
       "output_type": "stream",
       "stream": "stdout",
       "text": [
        "../data/graphic_40_level.png\n"
       ]
      }
     ],
     "prompt_number": 20
    },
    {
     "cell_type": "code",
     "collapsed": false,
     "input": [
      "generate_confidence_level_graphs('50')"
     ],
     "language": "python",
     "metadata": {},
     "outputs": [
      {
       "output_type": "stream",
       "stream": "stdout",
       "text": [
        "../data/graphic_50_level.png\n"
       ]
      }
     ],
     "prompt_number": 21
    },
    {
     "cell_type": "code",
     "collapsed": false,
     "input": [],
     "language": "python",
     "metadata": {},
     "outputs": [],
     "prompt_number": 21
    },
    {
     "cell_type": "code",
     "collapsed": false,
     "input": [],
     "language": "python",
     "metadata": {},
     "outputs": [],
     "prompt_number": 21
    }
   ],
   "metadata": {}
  }
 ]
}